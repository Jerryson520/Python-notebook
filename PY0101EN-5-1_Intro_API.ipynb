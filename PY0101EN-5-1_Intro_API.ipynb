{
    "cells": [
        {
            "cell_type": "markdown",
            "metadata": {},
            "source": "<center>\n    <img src=\"https://cf-courses-data.s3.us.cloud-object-storage.appdomain.cloud/IBMDeveloperSkillsNetwork-PY0101EN-SkillsNetwork/IDSNlogo.png\" width=\"300\" alt=\"cognitiveclass.ai logo\"  />\n</center>\n\n# Application Programming Interface\n\nEstimated time needed: **15** minutes\n\n## Objectives\n\nAfter completing this lab you will be able to:\n\n*   Create and Use APIs in Python\n"
        },
        {
            "cell_type": "markdown",
            "metadata": {},
            "source": "### Introduction\n\nAn API lets two pieces of software talk to each other. Just like a function,  you don\u2019t have to know how the API works only its inputs and outputs.  An essential type of API is a REST API that allows you to access resources via the internet. In this lab, we will review the Pandas Library  in the context of an API, we will also review a basic REST API\n"
        },
        {
            "cell_type": "markdown",
            "metadata": {},
            "source": "## Table of Contents\n\n<div class=\"alert alert-block alert-info\" style=\"margin-top: 20px\">\n<li><a href=\"https://#ref0\">Pandas is an API</a></li>\n<li><a href=\"https://#ref1\">REST APIs Basics  </a></li>\n<li><a href=\"https://#ref2\">Quiz on Tuples</a></li>\n\n</div>\n\n<hr>\n"
        },
        {
            "cell_type": "code",
            "execution_count": 2,
            "metadata": {
                "jupyter": {
                    "outputs_hidden": false
                }
            },
            "outputs": [
                {
                    "name": "stdout",
                    "output_type": "stream",
                    "text": "Collecting pycoingecko\n  Downloading pycoingecko-2.2.0-py3-none-any.whl (8.3 kB)\nRequirement already satisfied: requests in /opt/conda/envs/Python-3.8-main/lib/python3.8/site-packages (from pycoingecko) (2.25.1)\nRequirement already satisfied: chardet<5,>=3.0.2 in /opt/conda/envs/Python-3.8-main/lib/python3.8/site-packages (from requests->pycoingecko) (3.0.4)\nRequirement already satisfied: certifi>=2017.4.17 in /opt/conda/envs/Python-3.8-main/lib/python3.8/site-packages (from requests->pycoingecko) (2021.10.8)\nRequirement already satisfied: urllib3<1.27,>=1.21.1 in /opt/conda/envs/Python-3.8-main/lib/python3.8/site-packages (from requests->pycoingecko) (1.26.6)\nRequirement already satisfied: idna<3,>=2.5 in /opt/conda/envs/Python-3.8-main/lib/python3.8/site-packages (from requests->pycoingecko) (2.8)\nInstalling collected packages: pycoingecko\nSuccessfully installed pycoingecko-2.2.0\nRequirement already satisfied: plotly in /opt/conda/envs/Python-3.8-main/lib/python3.8/site-packages (4.14.3)\nRequirement already satisfied: retrying>=1.3.3 in /opt/conda/envs/Python-3.8-main/lib/python3.8/site-packages (from plotly) (1.3.3)\nRequirement already satisfied: six in /opt/conda/envs/Python-3.8-main/lib/python3.8/site-packages (from plotly) (1.15.0)\nCollecting mplfinance\n  Downloading mplfinance-0.12.8b6-py3-none-any.whl (64 kB)\n\u001b[K     |\u2588\u2588\u2588\u2588\u2588\u2588\u2588\u2588\u2588\u2588\u2588\u2588\u2588\u2588\u2588\u2588\u2588\u2588\u2588\u2588\u2588\u2588\u2588\u2588\u2588\u2588\u2588\u2588\u2588\u2588\u2588\u2588| 64 kB 5.5 MB/s  eta 0:00:01\n\u001b[?25hRequirement already satisfied: matplotlib in /opt/conda/envs/Python-3.8-main/lib/python3.8/site-packages (from mplfinance) (3.3.4)\nRequirement already satisfied: pandas in /opt/conda/envs/Python-3.8-main/lib/python3.8/site-packages (from mplfinance) (1.2.4)\nRequirement already satisfied: python-dateutil>=2.1 in /opt/conda/envs/Python-3.8-main/lib/python3.8/site-packages (from matplotlib->mplfinance) (2.8.1)\nRequirement already satisfied: kiwisolver>=1.0.1 in /opt/conda/envs/Python-3.8-main/lib/python3.8/site-packages (from matplotlib->mplfinance) (1.3.1)\nRequirement already satisfied: cycler>=0.10 in /opt/conda/envs/Python-3.8-main/lib/python3.8/site-packages (from matplotlib->mplfinance) (0.10.0)\nRequirement already satisfied: pillow>=6.2.0 in /opt/conda/envs/Python-3.8-main/lib/python3.8/site-packages (from matplotlib->mplfinance) (8.4.0)\nRequirement already satisfied: pyparsing!=2.0.4,!=2.1.2,!=2.1.6,>=2.0.3 in /opt/conda/envs/Python-3.8-main/lib/python3.8/site-packages (from matplotlib->mplfinance) (2.4.7)\nRequirement already satisfied: numpy>=1.15 in /opt/conda/envs/Python-3.8-main/lib/python3.8/site-packages (from matplotlib->mplfinance) (1.19.2)\nRequirement already satisfied: six in /opt/conda/envs/Python-3.8-main/lib/python3.8/site-packages (from cycler>=0.10->matplotlib->mplfinance) (1.15.0)\nRequirement already satisfied: pytz>=2017.3 in /opt/conda/envs/Python-3.8-main/lib/python3.8/site-packages (from pandas->mplfinance) (2021.1)\nInstalling collected packages: mplfinance\nSuccessfully installed mplfinance-0.12.8b6\n"
                }
            ],
            "source": "!pip install pycoingecko\n!pip install plotly\n!pip install mplfinance"
        },
        {
            "cell_type": "markdown",
            "metadata": {},
            "source": "<h2 id=\"PandasAPI\">Pandas is an API </h2>\n"
        },
        {
            "cell_type": "markdown",
            "metadata": {},
            "source": "Pandas is actually set of software components , much of  which is not even written in Python.\n"
        },
        {
            "cell_type": "code",
            "execution_count": 3,
            "metadata": {
                "jupyter": {
                    "outputs_hidden": false
                }
            },
            "outputs": [],
            "source": "import pandas as pd\nimport numpy as np\nimport plotly.graph_objects as go\nfrom plotly.offline import plot\nimport matplotlib.pyplot as plt\nimport datetime\nfrom pycoingecko import CoinGeckoAPI\nfrom mplfinance.original_flavor import candlestick2_ohlc"
        },
        {
            "cell_type": "markdown",
            "metadata": {},
            "source": "You create a dictionary, this is just data.\n"
        },
        {
            "cell_type": "code",
            "execution_count": 4,
            "metadata": {
                "jupyter": {
                    "outputs_hidden": false
                }
            },
            "outputs": [],
            "source": "dict_={'a':[11,21,31],'b':[12,22,32]}"
        },
        {
            "cell_type": "markdown",
            "metadata": {},
            "source": "When you create a Pandas object with the Dataframe constructor in API lingo, this is an \"instance\". The data in the dictionary is passed along to the pandas API. You then use the dataframe to communicate with the API.\n"
        },
        {
            "cell_type": "code",
            "execution_count": 5,
            "metadata": {
                "jupyter": {
                    "outputs_hidden": false
                }
            },
            "outputs": [
                {
                    "data": {
                        "text/html": "<div>\n<style scoped>\n    .dataframe tbody tr th:only-of-type {\n        vertical-align: middle;\n    }\n\n    .dataframe tbody tr th {\n        vertical-align: top;\n    }\n\n    .dataframe thead th {\n        text-align: right;\n    }\n</style>\n<table border=\"1\" class=\"dataframe\">\n  <thead>\n    <tr style=\"text-align: right;\">\n      <th></th>\n      <th>a</th>\n      <th>b</th>\n    </tr>\n  </thead>\n  <tbody>\n    <tr>\n      <th>0</th>\n      <td>11</td>\n      <td>12</td>\n    </tr>\n    <tr>\n      <th>1</th>\n      <td>21</td>\n      <td>22</td>\n    </tr>\n    <tr>\n      <th>2</th>\n      <td>31</td>\n      <td>32</td>\n    </tr>\n  </tbody>\n</table>\n</div>",
                        "text/plain": "    a   b\n0  11  12\n1  21  22\n2  31  32"
                    },
                    "execution_count": 5,
                    "metadata": {},
                    "output_type": "execute_result"
                }
            ],
            "source": "df=pd.DataFrame(dict_)\ntype(df)\ndf"
        },
        {
            "cell_type": "markdown",
            "metadata": {},
            "source": "<img src = \"https://cf-courses-data.s3.us.cloud-object-storage.appdomain.cloud/IBMDeveloperSkillsNetwork-PY0101EN-SkillsNetwork/labs/Module%205/images/pandas_api.png\" width = 800, align = \"center\" alt=\"logistic regression block diagram\" />\n"
        },
        {
            "cell_type": "markdown",
            "metadata": {},
            "source": "When you call the method head the dataframe communicates with the API displaying the first few rows of the dataframe.\n"
        },
        {
            "cell_type": "code",
            "execution_count": 6,
            "metadata": {
                "jupyter": {
                    "outputs_hidden": false
                }
            },
            "outputs": [
                {
                    "data": {
                        "text/html": "<div>\n<style scoped>\n    .dataframe tbody tr th:only-of-type {\n        vertical-align: middle;\n    }\n\n    .dataframe tbody tr th {\n        vertical-align: top;\n    }\n\n    .dataframe thead th {\n        text-align: right;\n    }\n</style>\n<table border=\"1\" class=\"dataframe\">\n  <thead>\n    <tr style=\"text-align: right;\">\n      <th></th>\n      <th>a</th>\n      <th>b</th>\n    </tr>\n  </thead>\n  <tbody>\n    <tr>\n      <th>0</th>\n      <td>11</td>\n      <td>12</td>\n    </tr>\n    <tr>\n      <th>1</th>\n      <td>21</td>\n      <td>22</td>\n    </tr>\n    <tr>\n      <th>2</th>\n      <td>31</td>\n      <td>32</td>\n    </tr>\n  </tbody>\n</table>\n</div>",
                        "text/plain": "    a   b\n0  11  12\n1  21  22\n2  31  32"
                    },
                    "execution_count": 6,
                    "metadata": {},
                    "output_type": "execute_result"
                }
            ],
            "source": "df.head()"
        },
        {
            "cell_type": "markdown",
            "metadata": {},
            "source": "When you call the method mean,the API will calculate the mean and return the value.\n"
        },
        {
            "cell_type": "code",
            "execution_count": 7,
            "metadata": {
                "jupyter": {
                    "outputs_hidden": false
                }
            },
            "outputs": [
                {
                    "data": {
                        "text/plain": "a    21.0\nb    22.0\ndtype: float64"
                    },
                    "execution_count": 7,
                    "metadata": {},
                    "output_type": "execute_result"
                }
            ],
            "source": "df.mean()"
        },
        {
            "cell_type": "markdown",
            "metadata": {},
            "source": "<h2 id=\"ref1\">REST APIs</h2>\n"
        },
        {
            "cell_type": "markdown",
            "metadata": {},
            "source": "Rest API\u2019s function by sending a request,  the request is communicated via HTTP message. The HTTP message usually contains a JSON file. This contains instructions for what operation we would like the service or resource to perform. In a similar manner, API returns a response, via an HTTP message, this response is usually contained within a JSON.\n\nIn cryptocurrency a popular method to display the movements of the price of a currency.\n\n![Example Candlestick Graph](https://cf-courses-data.s3.us.cloud-object-storage.appdomain.cloud/IBMDeveloperSkillsNetwork-PY0101EN-SkillsNetwork/labs/Module%205/candlestick.png)\n\nHere is a description of the candle sticks.\n\n<img src=\"https://cf-courses-data.s3.us.cloud-object-storage.appdomain.cloud/IBMDeveloperSkillsNetwork-PY0101EN-SkillsNetwork/labs/Module%205/explanation.png\" alt=\"Candle Stick Definition\" width=\"800\" height=\"600\">\n\nIn this lab, we will be using the <a href=https://www.coingecko.com/en/api?utm_medium=Exinfluencer&utm_source=Exinfluencer&utm_content=000026UJ&utm_term=10006555&utm_id=NA-SkillsNetwork-Channel-SkillsNetworkCoursesIBMDeveloperSkillsNetworkPY0101ENSkillsNetwork19487395-2021-01-01>CoinGecko API</a> to create one of these candlestick graphs for Bitcoin. We will use the API to get the price data for 30 days with 24 observation per day, 1 per hour. We will find the max, min, open, and close price per day meaning we will have 30 candlesticks and use that to generate the candlestick graph. Although we are using the CoinGecko API we will use a Python client/wrapper for the API called <a href=https://github.com/man-c/pycoingecko?utm_medium=Exinfluencer&utm_source=Exinfluencer&utm_content=000026UJ&utm_term=10006555&utm_id=NA-SkillsNetwork-Channel-SkillsNetworkCoursesIBMDeveloperSkillsNetworkPY0101ENSkillsNetwork19487395-2021-01-01>PyCoinGecko</a>. PyCoinGecko will make performing the requests easy and it will deal with the enpoint targeting.\n"
        },
        {
            "cell_type": "markdown",
            "metadata": {},
            "source": "Lets start off by getting the data we need. Using the <code>get_coin_market_chart_by_id(id, vs_currency, days)</code>. <code>id</code> is the name of the coin you want, <code>vs_currency</code> is the currency you want the price in, and <code>days</code> is how many days back from today you want.\n"
        },
        {
            "cell_type": "code",
            "execution_count": 8,
            "metadata": {},
            "outputs": [],
            "source": "cg = CoinGeckoAPI()\n\nbitcoin_data = cg.get_coin_market_chart_by_id(id='bitcoin', vs_currency='usd', days=30)\n# bitcoin_data"
        },
        {
            "cell_type": "code",
            "execution_count": 9,
            "metadata": {},
            "outputs": [
                {
                    "data": {
                        "text/plain": "dict"
                    },
                    "execution_count": 9,
                    "metadata": {},
                    "output_type": "execute_result"
                }
            ],
            "source": "type(bitcoin_data )"
        },
        {
            "cell_type": "markdown",
            "metadata": {},
            "source": "The response we get is in the form of a JSON which includes the price, market caps, and total volumes along with timestamps for each observation. We are focused on the prices so we will select that data.\n"
        },
        {
            "cell_type": "code",
            "execution_count": 10,
            "metadata": {},
            "outputs": [
                {
                    "data": {
                        "text/plain": "[[1637169334741, 60473.23528703941],\n [1637172141115, 60467.81227876397],\n [1637175613629, 60800.02195741346],\n [1637179551615, 60517.90172109344],\n [1637182926770, 60721.425416678416]]"
                    },
                    "execution_count": 10,
                    "metadata": {},
                    "output_type": "execute_result"
                }
            ],
            "source": "bitcoin_price_data = bitcoin_data['prices']\n\nbitcoin_price_data[0:5]"
        },
        {
            "cell_type": "markdown",
            "metadata": {},
            "source": "Finally lets turn this data into a Pandas DataFrame.\n"
        },
        {
            "cell_type": "code",
            "execution_count": 11,
            "metadata": {},
            "outputs": [
                {
                    "data": {
                        "text/html": "<div>\n<style scoped>\n    .dataframe tbody tr th:only-of-type {\n        vertical-align: middle;\n    }\n\n    .dataframe tbody tr th {\n        vertical-align: top;\n    }\n\n    .dataframe thead th {\n        text-align: right;\n    }\n</style>\n<table border=\"1\" class=\"dataframe\">\n  <thead>\n    <tr style=\"text-align: right;\">\n      <th></th>\n      <th>TimeStamp</th>\n      <th>Price</th>\n    </tr>\n  </thead>\n  <tbody>\n    <tr>\n      <th>0</th>\n      <td>1637169334741</td>\n      <td>60473.235287</td>\n    </tr>\n    <tr>\n      <th>1</th>\n      <td>1637172141115</td>\n      <td>60467.812279</td>\n    </tr>\n    <tr>\n      <th>2</th>\n      <td>1637175613629</td>\n      <td>60800.021957</td>\n    </tr>\n    <tr>\n      <th>3</th>\n      <td>1637179551615</td>\n      <td>60517.901721</td>\n    </tr>\n    <tr>\n      <th>4</th>\n      <td>1637182926770</td>\n      <td>60721.425417</td>\n    </tr>\n    <tr>\n      <th>...</th>\n      <td>...</td>\n      <td>...</td>\n    </tr>\n    <tr>\n      <th>718</th>\n      <td>1639749700800</td>\n      <td>46992.486796</td>\n    </tr>\n    <tr>\n      <th>719</th>\n      <td>1639753372031</td>\n      <td>45916.301854</td>\n    </tr>\n    <tr>\n      <th>720</th>\n      <td>1639756837428</td>\n      <td>46724.878744</td>\n    </tr>\n    <tr>\n      <th>721</th>\n      <td>1639760425566</td>\n      <td>47035.773017</td>\n    </tr>\n    <tr>\n      <th>722</th>\n      <td>1639761736000</td>\n      <td>46947.751058</td>\n    </tr>\n  </tbody>\n</table>\n<p>723 rows \u00d7 2 columns</p>\n</div>",
                        "text/plain": "         TimeStamp         Price\n0    1637169334741  60473.235287\n1    1637172141115  60467.812279\n2    1637175613629  60800.021957\n3    1637179551615  60517.901721\n4    1637182926770  60721.425417\n..             ...           ...\n718  1639749700800  46992.486796\n719  1639753372031  45916.301854\n720  1639756837428  46724.878744\n721  1639760425566  47035.773017\n722  1639761736000  46947.751058\n\n[723 rows x 2 columns]"
                    },
                    "execution_count": 11,
                    "metadata": {},
                    "output_type": "execute_result"
                }
            ],
            "source": "data = pd.DataFrame(bitcoin_price_data, columns=['TimeStamp', 'Price'])\ndata"
        },
        {
            "cell_type": "markdown",
            "metadata": {},
            "source": "Now that we have the DataFrame we will convert the timestamp to datetime and save it as a column called <code>Date</code>. We will map our <code>unix_to_datetime</code> to each timestamp and convert it to a readable datetime.\n"
        },
        {
            "cell_type": "code",
            "execution_count": 13,
            "metadata": {},
            "outputs": [],
            "source": "data['date'] = data['TimeStamp'].apply(lambda d: datetime.date.fromtimestamp(d/1000.0))\n"
        },
        {
            "cell_type": "markdown",
            "metadata": {},
            "source": "Using this modified dataset we can now group by the <code>Date</code> and find the min, max, open, and close for the candlesticks.\n"
        },
        {
            "cell_type": "code",
            "execution_count": 15,
            "metadata": {},
            "outputs": [
                {
                    "data": {
                        "text/html": "<div>\n<style scoped>\n    .dataframe tbody tr th:only-of-type {\n        vertical-align: middle;\n    }\n\n    .dataframe tbody tr th {\n        vertical-align: top;\n    }\n\n    .dataframe thead tr th {\n        text-align: left;\n    }\n</style>\n<table border=\"1\" class=\"dataframe\">\n  <thead>\n    <tr>\n      <th></th>\n      <th>date</th>\n      <th colspan=\"4\" halign=\"left\">Price</th>\n    </tr>\n    <tr>\n      <th></th>\n      <th></th>\n      <th>min</th>\n      <th>max</th>\n      <th>first</th>\n      <th>last</th>\n    </tr>\n  </thead>\n  <tbody>\n    <tr>\n      <th>0</th>\n      <td>2021-11-17</td>\n      <td>60207.590350</td>\n      <td>60800.021957</td>\n      <td>60473.235287</td>\n      <td>60292.325614</td>\n    </tr>\n    <tr>\n      <th>1</th>\n      <td>2021-11-18</td>\n      <td>56956.384977</td>\n      <td>60982.715694</td>\n      <td>60613.390494</td>\n      <td>56956.384977</td>\n    </tr>\n    <tr>\n      <th>2</th>\n      <td>2021-11-19</td>\n      <td>55861.139307</td>\n      <td>58361.160585</td>\n      <td>56987.322339</td>\n      <td>58056.784094</td>\n    </tr>\n    <tr>\n      <th>3</th>\n      <td>2021-11-20</td>\n      <td>57833.006825</td>\n      <td>59959.646836</td>\n      <td>58459.255517</td>\n      <td>59943.632505</td>\n    </tr>\n    <tr>\n      <th>4</th>\n      <td>2021-11-21</td>\n      <td>58861.630427</td>\n      <td>60082.911668</td>\n      <td>60082.911668</td>\n      <td>59362.841309</td>\n    </tr>\n    <tr>\n      <th>5</th>\n      <td>2021-11-22</td>\n      <td>55921.075722</td>\n      <td>59216.860474</td>\n      <td>59139.779280</td>\n      <td>56898.609252</td>\n    </tr>\n    <tr>\n      <th>6</th>\n      <td>2021-11-23</td>\n      <td>56100.000067</td>\n      <td>57851.381350</td>\n      <td>56386.856853</td>\n      <td>57526.341288</td>\n    </tr>\n    <tr>\n      <th>7</th>\n      <td>2021-11-24</td>\n      <td>56054.279283</td>\n      <td>57748.793174</td>\n      <td>57748.793174</td>\n      <td>57032.781719</td>\n    </tr>\n    <tr>\n      <th>8</th>\n      <td>2021-11-25</td>\n      <td>57128.550240</td>\n      <td>59206.232837</td>\n      <td>57198.183846</td>\n      <td>58958.548352</td>\n    </tr>\n    <tr>\n      <th>9</th>\n      <td>2021-11-26</td>\n      <td>54031.997962</td>\n      <td>58897.846983</td>\n      <td>58897.846983</td>\n      <td>54185.035132</td>\n    </tr>\n    <tr>\n      <th>10</th>\n      <td>2021-11-27</td>\n      <td>53827.792865</td>\n      <td>55225.942781</td>\n      <td>53827.792865</td>\n      <td>55017.855454</td>\n    </tr>\n    <tr>\n      <th>11</th>\n      <td>2021-11-28</td>\n      <td>53917.311740</td>\n      <td>56303.970003</td>\n      <td>54706.458577</td>\n      <td>56262.552640</td>\n    </tr>\n    <tr>\n      <th>12</th>\n      <td>2021-11-29</td>\n      <td>56639.665527</td>\n      <td>58778.092449</td>\n      <td>57237.661137</td>\n      <td>58132.109111</td>\n    </tr>\n    <tr>\n      <th>13</th>\n      <td>2021-11-30</td>\n      <td>56454.038208</td>\n      <td>58287.480460</td>\n      <td>57848.773537</td>\n      <td>57284.798601</td>\n    </tr>\n    <tr>\n      <th>14</th>\n      <td>2021-12-01</td>\n      <td>56749.098100</td>\n      <td>58612.920116</td>\n      <td>57011.280474</td>\n      <td>57124.866358</td>\n    </tr>\n    <tr>\n      <th>15</th>\n      <td>2021-12-02</td>\n      <td>56225.080607</td>\n      <td>57224.482540</td>\n      <td>57169.371994</td>\n      <td>56902.247564</td>\n    </tr>\n    <tr>\n      <th>16</th>\n      <td>2021-12-03</td>\n      <td>53448.720326</td>\n      <td>57060.825202</td>\n      <td>56508.268054</td>\n      <td>53483.395160</td>\n    </tr>\n    <tr>\n      <th>17</th>\n      <td>2021-12-04</td>\n      <td>46633.332640</td>\n      <td>53785.967172</td>\n      <td>53785.967172</td>\n      <td>49049.778903</td>\n    </tr>\n    <tr>\n      <th>18</th>\n      <td>2021-12-05</td>\n      <td>47828.356015</td>\n      <td>49673.940889</td>\n      <td>49161.990710</td>\n      <td>49254.374734</td>\n    </tr>\n    <tr>\n      <th>19</th>\n      <td>2021-12-06</td>\n      <td>47373.065254</td>\n      <td>50979.271823</td>\n      <td>49268.469891</td>\n      <td>50979.271823</td>\n    </tr>\n    <tr>\n      <th>20</th>\n      <td>2021-12-07</td>\n      <td>50302.094231</td>\n      <td>51855.478472</td>\n      <td>50461.576837</td>\n      <td>50302.094231</td>\n    </tr>\n    <tr>\n      <th>21</th>\n      <td>2021-12-08</td>\n      <td>49113.378818</td>\n      <td>50878.678203</td>\n      <td>50647.663406</td>\n      <td>50345.016232</td>\n    </tr>\n    <tr>\n      <th>22</th>\n      <td>2021-12-09</td>\n      <td>47504.053366</td>\n      <td>50650.944941</td>\n      <td>50530.458065</td>\n      <td>47937.140247</td>\n    </tr>\n    <tr>\n      <th>23</th>\n      <td>2021-12-10</td>\n      <td>47654.188647</td>\n      <td>49818.209308</td>\n      <td>47885.871989</td>\n      <td>47794.906334</td>\n    </tr>\n    <tr>\n      <th>24</th>\n      <td>2021-12-11</td>\n      <td>47303.564152</td>\n      <td>49090.949507</td>\n      <td>47303.564152</td>\n      <td>49020.750484</td>\n    </tr>\n    <tr>\n      <th>25</th>\n      <td>2021-12-12</td>\n      <td>48901.686411</td>\n      <td>50473.826329</td>\n      <td>49242.302324</td>\n      <td>50194.645524</td>\n    </tr>\n    <tr>\n      <th>26</th>\n      <td>2021-12-13</td>\n      <td>46659.579658</td>\n      <td>50051.078349</td>\n      <td>50051.078349</td>\n      <td>47050.224030</td>\n    </tr>\n    <tr>\n      <th>27</th>\n      <td>2021-12-14</td>\n      <td>46580.568255</td>\n      <td>48678.860206</td>\n      <td>46696.304699</td>\n      <td>48366.859849</td>\n    </tr>\n    <tr>\n      <th>28</th>\n      <td>2021-12-15</td>\n      <td>46978.080288</td>\n      <td>49376.408947</td>\n      <td>48410.564656</td>\n      <td>48829.117675</td>\n    </tr>\n    <tr>\n      <th>29</th>\n      <td>2021-12-16</td>\n      <td>47869.717351</td>\n      <td>49211.385552</td>\n      <td>48936.862582</td>\n      <td>47990.495423</td>\n    </tr>\n    <tr>\n      <th>30</th>\n      <td>2021-12-17</td>\n      <td>45916.301854</td>\n      <td>47961.123755</td>\n      <td>47694.530502</td>\n      <td>46947.751058</td>\n    </tr>\n  </tbody>\n</table>\n</div>",
                        "text/plain": "          date         Price                                          \n                         min           max         first          last\n0   2021-11-17  60207.590350  60800.021957  60473.235287  60292.325614\n1   2021-11-18  56956.384977  60982.715694  60613.390494  56956.384977\n2   2021-11-19  55861.139307  58361.160585  56987.322339  58056.784094\n3   2021-11-20  57833.006825  59959.646836  58459.255517  59943.632505\n4   2021-11-21  58861.630427  60082.911668  60082.911668  59362.841309\n5   2021-11-22  55921.075722  59216.860474  59139.779280  56898.609252\n6   2021-11-23  56100.000067  57851.381350  56386.856853  57526.341288\n7   2021-11-24  56054.279283  57748.793174  57748.793174  57032.781719\n8   2021-11-25  57128.550240  59206.232837  57198.183846  58958.548352\n9   2021-11-26  54031.997962  58897.846983  58897.846983  54185.035132\n10  2021-11-27  53827.792865  55225.942781  53827.792865  55017.855454\n11  2021-11-28  53917.311740  56303.970003  54706.458577  56262.552640\n12  2021-11-29  56639.665527  58778.092449  57237.661137  58132.109111\n13  2021-11-30  56454.038208  58287.480460  57848.773537  57284.798601\n14  2021-12-01  56749.098100  58612.920116  57011.280474  57124.866358\n15  2021-12-02  56225.080607  57224.482540  57169.371994  56902.247564\n16  2021-12-03  53448.720326  57060.825202  56508.268054  53483.395160\n17  2021-12-04  46633.332640  53785.967172  53785.967172  49049.778903\n18  2021-12-05  47828.356015  49673.940889  49161.990710  49254.374734\n19  2021-12-06  47373.065254  50979.271823  49268.469891  50979.271823\n20  2021-12-07  50302.094231  51855.478472  50461.576837  50302.094231\n21  2021-12-08  49113.378818  50878.678203  50647.663406  50345.016232\n22  2021-12-09  47504.053366  50650.944941  50530.458065  47937.140247\n23  2021-12-10  47654.188647  49818.209308  47885.871989  47794.906334\n24  2021-12-11  47303.564152  49090.949507  47303.564152  49020.750484\n25  2021-12-12  48901.686411  50473.826329  49242.302324  50194.645524\n26  2021-12-13  46659.579658  50051.078349  50051.078349  47050.224030\n27  2021-12-14  46580.568255  48678.860206  46696.304699  48366.859849\n28  2021-12-15  46978.080288  49376.408947  48410.564656  48829.117675\n29  2021-12-16  47869.717351  49211.385552  48936.862582  47990.495423\n30  2021-12-17  45916.301854  47961.123755  47694.530502  46947.751058"
                    },
                    "execution_count": 15,
                    "metadata": {},
                    "output_type": "execute_result"
                }
            ],
            "source": "candlestick_data = data.groupby(data.date, as_index=False).agg({\"Price\": ['min', 'max', 'first', 'last']})\ncandlestick_data"
        },
        {
            "cell_type": "markdown",
            "metadata": {},
            "source": "Finally we are now ready to use plotly to create our Candlestick Chart.\n"
        },
        {
            "cell_type": "code",
            "execution_count": null,
            "metadata": {},
            "outputs": [],
            "source": "fig = go.Figure(data=[go.Candlestick(x=candlestick_data['date'],\n                open=candlestick_data['Price']['first'], \n                high=candlestick_data['Price']['max'],\n                low=candlestick_data['Price']['min'], \n                close=candlestick_data['Price']['last'])\n                ])\n\nfig.update_layout(xaxis_rangeslider_visible=False)\n\nfig.show()"
        },
        {
            "cell_type": "markdown",
            "metadata": {},
            "source": "## Authors:\n\n## Change Log\n\n| Date (YYYY-MM-DD) | Version | Changed By    | Change Description                 |\n| ----------------- | ------- | ------------- | ---------------------------------- |\n| 2020-11-23        | 3.0     | Azim Hirjani  | New API                            |\n| 2020-09-09        | 2.1     | Malika Singla | Spell Check                        |\n| 2020-08-26        | 2.0     | Lavanya       | Moved lab to course repo in GitLab |\n|                   |         |               |                                    |\n\n<hr/>\n\n## <h3 align=\"center\"> \u00a9 IBM Corporation 2020. All rights reserved. <h3/>\n"
        }
    ],
    "metadata": {
        "kernelspec": {
            "display_name": "Python 3.8",
            "language": "python",
            "name": "python3"
        },
        "language_info": {
            "codemirror_mode": {
                "name": "ipython",
                "version": 3
            },
            "file_extension": ".py",
            "mimetype": "text/x-python",
            "name": "python",
            "nbconvert_exporter": "python",
            "pygments_lexer": "ipython3",
            "version": "3.8.12"
        }
    },
    "nbformat": 4,
    "nbformat_minor": 4
}